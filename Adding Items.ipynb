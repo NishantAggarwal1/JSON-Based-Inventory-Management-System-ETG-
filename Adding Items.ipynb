{
 "cells": [
  {
   "cell_type": "code",
   "execution_count": 19,
   "id": "87a2a81e",
   "metadata": {},
   "outputs": [],
   "source": [
    "import json"
   ]
  },
  {
   "cell_type": "code",
   "execution_count": 20,
   "id": "f383ed53",
   "metadata": {},
   "outputs": [],
   "source": [
    "with open('record.json','r') as fd:\n",
    "    js = fd.read()\n",
    "products = json.loads(js)"
   ]
  },
  {
   "cell_type": "code",
   "execution_count": 109,
   "id": "80d987b9",
   "metadata": {},
   "outputs": [
    {
     "name": "stdout",
     "output_type": "stream",
     "text": [
      "Enter the product ID of product you want to add : 197324\n",
      "Enter the name of product : Sugar\n",
      "Enter the brand of product : Tata\n",
      "Enter the quantity you want to add : 30\n",
      "Enter the price of product : ₹30\n",
      "Enter the expiry date of product : 30 Dec 2021\n"
     ]
    }
   ],
   "source": [
    "prodId = input('Enter the product ID of product you want to add : ')\n",
    "name = input('Enter the name of product : ')\n",
    "brand = input('Enter the brand of product : ')\n",
    "qty = int(input('Enter the quantity you want to add : '))\n",
    "price = float(input('Enter the price of product : ₹'))\n",
    "expDt = input('Enter the expiry date of product : ')"
   ]
  },
  {
   "cell_type": "code",
   "execution_count": 110,
   "id": "d9eeb0a3",
   "metadata": {},
   "outputs": [],
   "source": [
    "for product in products:\n",
    "    if product == prodId:\n",
    "        products[prodId] = {'name' : name , 'brand' : brand , 'qty' : products[product]['qty'] + qty , 'price' : price , 'expDt' : expDt}\n",
    "        break\n",
    "    else:\n",
    "        products[prodId] = {'name' : name , 'brand' : brand , 'qty' : qty , 'price' : price , 'expDt' : expDt}\n",
    "        break"
   ]
  },
  {
   "cell_type": "code",
   "execution_count": 111,
   "id": "3861756f",
   "metadata": {},
   "outputs": [],
   "source": [
    "js = json.dumps(products)\n",
    "with open('record.json','w') as fd:\n",
    "    fd.write(js)"
   ]
  },
  {
   "cell_type": "code",
   "execution_count": null,
   "id": "f0d2df7a",
   "metadata": {},
   "outputs": [],
   "source": []
  }
 ],
 "metadata": {
  "kernelspec": {
   "display_name": "Python 3",
   "language": "python",
   "name": "python3"
  },
  "language_info": {
   "codemirror_mode": {
    "name": "ipython",
    "version": 3
   },
   "file_extension": ".py",
   "mimetype": "text/x-python",
   "name": "python",
   "nbconvert_exporter": "python",
   "pygments_lexer": "ipython3",
   "version": "3.8.8"
  }
 },
 "nbformat": 4,
 "nbformat_minor": 5
}
