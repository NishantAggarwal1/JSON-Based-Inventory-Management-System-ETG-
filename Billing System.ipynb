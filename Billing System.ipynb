{
 "cells": [
  {
   "cell_type": "code",
   "execution_count": 1,
   "id": "a9e09071",
   "metadata": {},
   "outputs": [],
   "source": [
    "import json"
   ]
  },
  {
   "cell_type": "code",
   "execution_count": 2,
   "id": "7c79d047",
   "metadata": {},
   "outputs": [],
   "source": [
    "with open('record.json','r') as fd:\n",
    "    js=fd.read()\n",
    "products = json.loads(js)"
   ]
  },
  {
   "cell_type": "code",
   "execution_count": 3,
   "id": "b8e376af",
   "metadata": {},
   "outputs": [],
   "source": [
    "with open('sales.json','r') as fd:\n",
    "    js=fd.read()\n",
    "sales = json.loads(js)"
   ]
  },
  {
   "cell_type": "code",
   "execution_count": 18,
   "id": "f11d4294",
   "metadata": {},
   "outputs": [],
   "source": [
    "more = 1\n",
    "billAmt = 0.00"
   ]
  },
  {
   "cell_type": "code",
   "execution_count": 19,
   "id": "a388233c",
   "metadata": {},
   "outputs": [
    {
     "name": "stdout",
     "output_type": "stream",
     "text": [
      "Enter the Product ID to purchase : 197311\n",
      "Enter the Quantity you want to purchase : 1\n",
      "Product ID : 197311 \tBrand : Coca-Cola Name : Limca \tQuantity : 1 \tPrice : ₹ 35.0 \tExpiry Date : 31 Mar 2022\n",
      "Total Amount : ₹ 35.0\n",
      "Want to buy more?(y/n) y\n",
      "Enter the Product ID to purchase : 197312\n",
      "Enter the Quantity you want to purchase : 1\n",
      "Product ID : 197312 \tBrand : Coca-Cola Name : Fanta \tQuantity : 1 \tPrice : ₹ 35.0 \tExpiry Date : 27 Feb 2022\n",
      "Total Amount : ₹ 35.0\n",
      "Want to buy more?(y/n) y\n",
      "Enter the Product ID to purchase : 197313\n",
      "Enter the Quantity you want to purchase : 1\n",
      "Product ID : 197313 \tBrand : Coca-Cola Name : Maaza \tQuantity : 1 \tPrice : ₹ 40.0 \tExpiry Date : 30 Dec 2021\n",
      "Total Amount : ₹ 40.0\n",
      "Want to buy more?(y/n) y\n",
      "Enter the Product ID to purchase : 197314\n",
      "Enter the Quantity you want to purchase : 1\n",
      "Product ID : 197314 \tBrand : PepsiCo Name : Pepsi \tQuantity : 1 \tPrice : ₹ 35.0 \tExpiry Date : 12 Feb 2022\n",
      "Total Amount : ₹ 35.0\n",
      "Want to buy more?(y/n) y\n",
      "Enter the Product ID to purchase : 197318\n",
      "Enter the Quantity you want to purchase : 1\n",
      "Product ID : 197318 \tBrand : PepsiCo Name : Kurkure \tQuantity : 1 \tPrice : ₹ 20.0 \tExpiry Date : 30 Mar 2022\n",
      "Total Amount : ₹ 20.0\n",
      "Want to buy more?(y/n) y\n",
      "Enter the Product ID to purchase : 197309\n",
      "Enter the Quantity you want to purchase : 1\n",
      "Product ID : 197309 \tBrand : Coca-Cola Name : Thums Up \tQuantity : 1 \tPrice : ₹ 35.0 \tExpiry Date : 30 Mar 2022\n",
      "Total Amount : ₹ 35.0\n",
      "Want to buy more?(y/n) n\n",
      "Grand Total : ₹ 200.0 \n",
      "Date and Time : Mon Sep  6 20:13:01 2021 \n",
      "Thanks for buying\n"
     ]
    }
   ],
   "source": [
    "while more:\n",
    "    userProd = str(input('Enter the Product ID to purchase : '))\n",
    "    userQty = int(input('Enter the Quantity you want to purchase : '))\n",
    "    \n",
    "    if (products[userProd]['qty']>0 and products[userProd]['qty']>=userQty):\n",
    "        print('Product ID :' , userProd , '\\tBrand :' , products[userProd]['brand'] , 'Name :' , products[userProd]['name'] , '\\tQuantity :' , userQty , '\\tPrice : ₹' , products[userProd]['price'] , '\\tExpiry Date :' , products[userProd]['expDt'])\n",
    "        print('Total Amount : ₹' , userQty*products[userProd]['price'])\n",
    "        billAmt = billAmt + userQty*products[userProd]['price']\n",
    "        products[userProd]['qty'] = products[userProd]['qty']-userQty\n",
    "        \n",
    "        import time\n",
    "        timeStamp = time.ctime()\n",
    "        sales[len(sales) + 1] = {'pTime' : timeStamp , 'prodId' : userProd , 'brand' : products[userProd]['brand'] , 'name' : products[userProd]['name'] , 'qty' : userQty , 'amount' : userQty*products[userProd]['price']}\n",
    "        \n",
    "        js = json.dumps(products)\n",
    "        with open('record.json','w') as fd:\n",
    "            fd.write(js)\n",
    "            \n",
    "        js = json.dumps(sales)\n",
    "        with open(\"sales.json\",'w') as fd:\n",
    "            fd.write(js)\n",
    "    else:\n",
    "        print(\"Product Unavailable or Stock is less than required quantity\")\n",
    "        \n",
    "    choice = input('Want to buy more?(y/n) ')\n",
    "    if choice == 'y':\n",
    "        more = 1\n",
    "    elif choice == 'n':\n",
    "        print('Grand Total : ₹' , billAmt , '\\nDate and Time :' , timeStamp , '\\nThanks for buying')\n",
    "        more = 0"
   ]
  },
  {
   "cell_type": "code",
   "execution_count": null,
   "id": "1bcb5dcb",
   "metadata": {},
   "outputs": [],
   "source": []
  }
 ],
 "metadata": {
  "kernelspec": {
   "display_name": "Python 3",
   "language": "python",
   "name": "python3"
  },
  "language_info": {
   "codemirror_mode": {
    "name": "ipython",
    "version": 3
   },
   "file_extension": ".py",
   "mimetype": "text/x-python",
   "name": "python",
   "nbconvert_exporter": "python",
   "pygments_lexer": "ipython3",
   "version": "3.8.8"
  }
 },
 "nbformat": 4,
 "nbformat_minor": 5
}
